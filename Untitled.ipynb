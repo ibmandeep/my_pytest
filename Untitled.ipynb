{
 "cells": [
  {
   "cell_type": "markdown",
   "id": "8a209739-beea-47c2-8dd0-03593e8ae9e2",
   "metadata": {},
   "source": [
    "\n",
    "```py\n",
    "a = 1\n",
    "```\n",
    "\n",
    "``` py\n",
    "b = 2\n",
    "```\n",
    "\n",
    "```{.py .test=\"skip\"}\n",
    "c = 3\n",
    "```\n",
    "\n",
    "``` {.py}\n",
    "d = 4\n",
    "```\n"
   ]
  },
  {
   "cell_type": "code",
   "execution_count": null,
   "id": "285f584f-afd1-4516-b09f-02632b277012",
   "metadata": {},
   "outputs": [],
   "source": []
  }
 ],
 "metadata": {
  "kernelspec": {
   "display_name": "Python 3 (ipykernel)",
   "language": "python",
   "name": "python3"
  },
  "language_info": {
   "codemirror_mode": {
    "name": "ipython",
    "version": 3
   },
   "file_extension": ".py",
   "mimetype": "text/x-python",
   "name": "python",
   "nbconvert_exporter": "python",
   "pygments_lexer": "ipython3",
   "version": "3.10.12"
  }
 },
 "nbformat": 4,
 "nbformat_minor": 5
}
